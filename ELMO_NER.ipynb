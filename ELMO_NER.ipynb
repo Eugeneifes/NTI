{
  "nbformat": 4,
  "nbformat_minor": 0,
  "metadata": {
    "colab": {
      "name": "ELMO-NER.ipynb",
      "provenance": [],
      "collapsed_sections": []
    },
    "kernelspec": {
      "name": "python3",
      "display_name": "Python 3"
    }
  },
  "cells": [
    {
      "cell_type": "code",
      "metadata": {
        "id": "FH3Z8gOeCPK8",
        "colab_type": "code",
        "colab": {}
      },
      "source": [
        "#шаг1: скачать репозиторий FactFuEval-2016 (https://github.com/dialogue-evaluation/factRuEval-2016)\n",
        "#шаг2: внутри репозитория создаем директории FactRuEval2016_results и FactRuEval2016_results/results_of_elmo_and_crf (для результатов)\n",
        "#шаг3: устанавливаем библиотеку deep_ner (pip install deep_ner)\n",
        "#шаг4: для обучения на наших текстах будем использовать предобученные ELMo эмбеддинги команды deeppavlov (http://docs.deeppavlov.ai/en/master/features/pretrained_vectors.html)\n",
        "\n",
        "#!unzip factRuEval-2016-master.zip\n",
        "#!pip install deep_ner\n",
        "\n",
        "#требования по библиотекам:\n",
        "#nltk==3.4.5\n",
        "#numpy==1.18.1\n",
        "#scikit-learn==0.22.1\n",
        "#scipy==1.4.1\n",
        "#tensorboard==2.1.0\n",
        "#tensorflow==1.15.0\n",
        "#tensorflow-hub==0.8.0\n",
        "#bert-tensorflow==1.0.1\n",
        "#spacy-udpipe==0.2.0\n",
        "#spacy==2.2.3\n",
        "#pymorphy2==0.8\n",
        "#rusenttokenize==0.0.5\n",
        "\n",
        "#работа выполена в google.colab\n",
        "#python 3.6.9"
      ],
      "execution_count": 0,
      "outputs": []
    },
    {
      "cell_type": "code",
      "metadata": {
        "id": "RLHBuu_V3k3y",
        "colab_type": "code",
        "colab": {}
      },
      "source": [
        "from deep_ner.elmo_ner import ELMo_NER\n",
        "from deep_ner.utils import load_dataset_from_json, factrueval2016_to_json\n",
        "import json\n",
        "import os\n",
        "import sys\n",
        "\n",
        "#sys.version\n",
        "#sys.path.append('/content/factRuEval-2016-master/scripts')\n",
        "#sys.path.append('/content/factRuEval-2016-master')\n",
        "from scripts.dialent.task1.eval import Evaluator"
      ],
      "execution_count": 0,
      "outputs": []
    },
    {
      "cell_type": "code",
      "metadata": {
        "id": "T5a9eQlP7hf0",
        "colab_type": "code",
        "outputId": "12865364-f8e7-448a-a59f-eb3d74618ddf",
        "colab": {
          "base_uri": "https://localhost:8080/",
          "height": 68
        }
      },
      "source": [
        "%%time\n",
        "factrueval2016_to_json(\"factRuEval-2016-master/devset\", \"factrueval2016devset_to_json.json\")\n",
        "X, y = load_dataset_from_json(\"factrueval2016devset_to_json.json\")\n",
        "\n",
        "recognizer = ELMo_NER(\n",
        "    \n",
        "            finetune_elmo=False, \n",
        "            batch_size=16, \n",
        "            l2_reg=1e-2, \n",
        "            max_seq_length=200,\n",
        "            elmo_hub_module_handle='http://files.deeppavlov.ai/deeppavlov_data/elmo_ru-news_wmt11-16_1.5M_steps.tar.gz', \n",
        "            validation_fraction=0.25, \n",
        "            max_epochs=2,\n",
        "            patience=10, \n",
        "            gpu_memory_frac=0.9, \n",
        "            verbose=True, \n",
        "            random_seed=42, \n",
        "            lr=1e-2, \n",
        "            udpipe_lang='ru',\n",
        "            use_additional_features=False\n",
        "\n",
        "        )\n",
        "\n",
        "recognizer.fit(X, y)"
      ],
      "execution_count": 0,
      "outputs": [
        {
          "output_type": "stream",
          "text": [
            "Downloaded pre-trained UDPipe model for 'ru' language\n",
            "CPU times: user 52min 40s, sys: 1min 25s, total: 54min 5s\n",
            "Wall time: 30min 10s\n"
          ],
          "name": "stdout"
        }
      ]
    },
    {
      "cell_type": "code",
      "metadata": {
        "id": "Y-KrfwEZoeRY",
        "colab_type": "code",
        "colab": {}
      },
      "source": [
        "#!mkdir FactRuEval2016_results\n",
        "#!mkdir FactRuEval2016_results/results_of_elmo_and_crf"
      ],
      "execution_count": 0,
      "outputs": []
    },
    {
      "cell_type": "code",
      "metadata": {
        "id": "sOftTAWl-746",
        "colab_type": "code",
        "outputId": "38656486-11aa-4502-81b4-6ed027dec068",
        "colab": {
          "base_uri": "https://localhost:8080/",
          "height": 51
        }
      },
      "source": [
        "%%time\n",
        "factrueval2016_to_json(\"factRuEval-2016-master/testset\", \"factrueval2016testset_to_json.json\")\n",
        "\n",
        "with open(\"factrueval2016testset_to_json.json\", 'r') as fp:\n",
        "  data_for_testing = json.load(fp)\n",
        "\n",
        "_, true_entities = load_dataset_from_json(\"factrueval2016testset_to_json.json\")\n",
        "\n",
        "texts = []\n",
        "additional_info = []\n",
        "for cur_document in data_for_testing:\n",
        "  base_name = os.path.join(\"FactRuEval2016_results/results_of_elmo_and_crf\", cur_document['base_name'] + '.task1')\n",
        "  for cur_paragraph in cur_document['paragraph_bounds']:\n",
        "    texts.append(cur_document['text'][cur_paragraph[0]:cur_paragraph[1]])\n",
        "    additional_info.append((base_name, cur_paragraph))\n",
        "\n",
        "predicted_entities = recognizer.predict(texts)\n",
        "\n",
        "results_for_factrueval_2016 = dict()\n",
        "for sample_idx, cur_result in enumerate(predicted_entities):\n",
        "    base_name, paragraph_bounds = additional_info[sample_idx]\n",
        "    for entity_type in cur_result:\n",
        "        if entity_type == 'ORG':\n",
        "            prepared_entity_type = 'org'\n",
        "        elif entity_type == 'PERSON':\n",
        "            prepared_entity_type = 'per'\n",
        "        elif entity_type == 'LOCATION':\n",
        "            prepared_entity_type = 'loc'\n",
        "        else:\n",
        "            prepared_entity_type = None\n",
        "        \n",
        "        for entity_bounds in cur_result[entity_type]:\n",
        "            postprocessed_entity = (\n",
        "                prepared_entity_type,\n",
        "                entity_bounds[0] + paragraph_bounds[0],\n",
        "                entity_bounds[1] - entity_bounds[0]\n",
        "                )\n",
        "            if base_name in results_for_factrueval_2016:\n",
        "                results_for_factrueval_2016[base_name].append(postprocessed_entity)\n",
        "            else:\n",
        "                results_for_factrueval_2016[base_name] = [postprocessed_entity]\n",
        "\n",
        "for base_name in results_for_factrueval_2016:\n",
        "    with open(base_name, 'w+') as fp:\n",
        "        for cur_entity in sorted(results_for_factrueval_2016[base_name], key=lambda it: (it[1], it[2], it[0])):\n",
        "            fp.write('{0} {1} {2}\\n'.format(cur_entity[0], cur_entity[1], cur_entity[2]))"
      ],
      "execution_count": 0,
      "outputs": [
        {
          "output_type": "stream",
          "text": [
            "CPU times: user 35min 16s, sys: 49.7 s, total: 36min 6s\n",
            "Wall time: 18min 54s\n"
          ],
          "name": "stdout"
        }
      ]
    },
    {
      "cell_type": "code",
      "metadata": {
        "id": "AozQ1nG8dQNk",
        "colab_type": "code",
        "outputId": "d38066a3-f21b-4f54-82ad-57052ff7044d",
        "colab": {
          "base_uri": "https://localhost:8080/",
          "height": 204
        }
      },
      "source": [
        "#!python factRuEval-2016-master/scripts/t1_eval.py -t /content/FactRuEval2016_results/results_of_elmo_and_crf -s /content/factRuEval-2016-master/testset -l\n",
        "\n",
        "is_locorg_allowed = False\n",
        "e = Evaluator(is_locorg_allowed)\n",
        "e.evaluate(std_path=\"/content/factRuEval-2016-master/testset\", test_path=\"/content/FactRuEval2016_results/results_of_elmo_and_crf\")"
      ],
      "execution_count": 27,
      "outputs": [
        {
          "output_type": "stream",
          "text": [
            "Failed to load the standard of book_3954:\n",
            "Unknown mention tag: Facility\n",
            "Type    P        R        F1       TP1      TP2      In Std.  In Test.\n",
            "per        0.8924   0.9210   0.9065  1234.17  1234.17     1340     1383\n",
            "loc        0.8813   0.8410   0.8607  1031.95  1031.95     1227     1171\n",
            "org        0.5729   0.6981   0.6293  1098.80  1098.80     1574     1918\n",
            "overall    0.7524   0.8126   0.7814  3364.92  3364.92     4141     4472\n"
          ],
          "name": "stdout"
        },
        {
          "output_type": "execute_result",
          "data": {
            "text/plain": [
              "{'loc': <dialent.common.metrics.Metrics at 0x7f85ec2c7f98>,\n",
              " 'org': <dialent.common.metrics.Metrics at 0x7f85ec2baef0>,\n",
              " 'overall': <dialent.common.metrics.Metrics at 0x7f85f5a429b0>,\n",
              " 'per': <dialent.common.metrics.Metrics at 0x7f85ec2bd390>}"
            ]
          },
          "metadata": {
            "tags": []
          },
          "execution_count": 27
        }
      ]
    },
    {
      "cell_type": "code",
      "metadata": {
        "id": "IHDHn4bdOmzk",
        "colab_type": "code",
        "colab": {}
      },
      "source": [
        "#!zip -r /content/file.zip /content/FactRuEval2016_results"
      ],
      "execution_count": 0,
      "outputs": []
    }
  ]
}