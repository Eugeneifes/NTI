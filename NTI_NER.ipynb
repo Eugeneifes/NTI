{
  "nbformat": 4,
  "nbformat_minor": 0,
  "metadata": {
    "colab": {
      "name": "NTI_NER.ipynb",
      "provenance": [],
      "collapsed_sections": []
    },
    "kernelspec": {
      "name": "python3",
      "display_name": "Python 3"
    }
  },
  "cells": [
    {
      "cell_type": "code",
      "metadata": {
        "id": "FH3Z8gOeCPK8",
        "colab_type": "code",
        "colab": {}
      },
      "source": [
        "#!unzip factRuEval-2016-master.zip\n",
        "#!pip install deep_ner"
      ],
      "execution_count": 0,
      "outputs": []
    },
    {
      "cell_type": "code",
      "metadata": {
        "id": "RLHBuu_V3k3y",
        "colab_type": "code",
        "outputId": "e32c4a13-b4d8-4697-846f-1c60abd78f06",
        "colab": {
          "base_uri": "https://localhost:8080/",
          "height": 105
        }
      },
      "source": [
        "from deep_ner.elmo_ner import ELMo_NER\n",
        "from deep_ner.utils import load_dataset_from_json, factrueval2016_to_json\n",
        "import json\n",
        "import os"
      ],
      "execution_count": 5,
      "outputs": [
        {
          "output_type": "stream",
          "text": [
            "WARNING:tensorflow:From /usr/local/lib/python3.6/dist-packages/deep_ner/elmo_ner.py:21: The name tf.logging.set_verbosity is deprecated. Please use tf.compat.v1.logging.set_verbosity instead.\n",
            "\n",
            "WARNING:tensorflow:From /usr/local/lib/python3.6/dist-packages/deep_ner/elmo_ner.py:21: The name tf.logging.ERROR is deprecated. Please use tf.compat.v1.logging.ERROR instead.\n",
            "\n"
          ],
          "name": "stdout"
        }
      ]
    },
    {
      "cell_type": "code",
      "metadata": {
        "id": "T5a9eQlP7hf0",
        "colab_type": "code",
        "colab": {
          "base_uri": "https://localhost:8080/",
          "height": 51
        },
        "outputId": "61f5c74b-9ae9-44ac-a4c7-aa7ac5228f1f"
      },
      "source": [
        "%%time\n",
        "factrueval2016_to_json(\"factRuEval-2016-master/devset\", \"factrueval2016devset_to_json.json\")\n",
        "X, y = load_dataset_from_json(\"factrueval2016devset_to_json.json\")\n",
        "\n",
        "recognizer = ELMo_NER(\n",
        "    \n",
        "            finetune_elmo=False, \n",
        "            batch_size=16, \n",
        "            l2_reg=1e-2, \n",
        "            max_seq_length=200,\n",
        "            elmo_hub_module_handle='http://files.deeppavlov.ai/deeppavlov_data/elmo_ru-news_wmt11-16_1.5M_steps.tar.gz', \n",
        "            validation_fraction=0.25, \n",
        "            max_epochs=1,\n",
        "            patience=10, \n",
        "            gpu_memory_frac=0.9, \n",
        "            verbose=True, \n",
        "            random_seed=42, \n",
        "            lr=1e-2, \n",
        "            udpipe_lang='ru',\n",
        "            use_additional_features=False\n",
        "\n",
        "        )\n",
        "\n",
        "recognizer.fit(X, y)"
      ],
      "execution_count": 6,
      "outputs": [
        {
          "output_type": "stream",
          "text": [
            "CPU times: user 26min 26s, sys: 43.7 s, total: 27min 10s\n",
            "Wall time: 14min 25s\n"
          ],
          "name": "stdout"
        }
      ]
    },
    {
      "cell_type": "code",
      "metadata": {
        "id": "Y-KrfwEZoeRY",
        "colab_type": "code",
        "colab": {}
      },
      "source": [
        "#!mkdir FactRuEval2016_results\n",
        "#!mkdir FactRuEval2016_results/results_of_elmo_and_crf"
      ],
      "execution_count": 0,
      "outputs": []
    },
    {
      "cell_type": "code",
      "metadata": {
        "id": "sOftTAWl-746",
        "colab_type": "code",
        "colab": {
          "base_uri": "https://localhost:8080/",
          "height": 51
        },
        "outputId": "dc19256a-6a15-43d7-967a-8279795a6313"
      },
      "source": [
        "%%time\n",
        "factrueval2016_to_json(\"factRuEval-2016-master/testset\", \"factrueval2016testset_to_json.json\")\n",
        "\n",
        "with open(\"factrueval2016testset_to_json.json\", 'r') as fp:\n",
        "  data_for_testing = json.load(fp)\n",
        "\n",
        "_, true_entities = load_dataset_from_json(\"factrueval2016testset_to_json.json\")\n",
        "\n",
        "texts = []\n",
        "additional_info = []\n",
        "for cur_document in data_for_testing:\n",
        "  base_name = os.path.join(\"FactRuEval2016_results/results_of_elmo_and_crf\", cur_document['base_name'] + '.task1')\n",
        "  for cur_paragraph in cur_document['paragraph_bounds']:\n",
        "    texts.append(cur_document['text'][cur_paragraph[0]:cur_paragraph[1]])\n",
        "    additional_info.append((base_name, cur_paragraph))\n",
        "\n",
        "predicted_entities = recognizer.predict(texts)\n",
        "\n",
        "results_for_factrueval_2016 = dict()\n",
        "for sample_idx, cur_result in enumerate(predicted_entities):\n",
        "    base_name, paragraph_bounds = additional_info[sample_idx]\n",
        "    for entity_type in cur_result:\n",
        "        if entity_type == 'ORG':\n",
        "            prepared_entity_type = 'org'\n",
        "        elif entity_type == 'PERSON':\n",
        "            prepared_entity_type = 'per'\n",
        "        elif entity_type == 'LOCATION':\n",
        "            prepared_entity_type = 'loc'\n",
        "        else:\n",
        "            prepared_entity_type = None\n",
        "        \n",
        "        for entity_bounds in cur_result[entity_type]:\n",
        "            postprocessed_entity = (\n",
        "                prepared_entity_type,\n",
        "                entity_bounds[0] + paragraph_bounds[0],\n",
        "                entity_bounds[1] - entity_bounds[0]\n",
        "                )\n",
        "            if base_name in results_for_factrueval_2016:\n",
        "                results_for_factrueval_2016[base_name].append(postprocessed_entity)\n",
        "            else:\n",
        "                results_for_factrueval_2016[base_name] = [postprocessed_entity]\n",
        "\n",
        "for base_name in results_for_factrueval_2016:\n",
        "    with open(base_name, 'w+') as fp:\n",
        "        for cur_entity in sorted(results_for_factrueval_2016[base_name], key=lambda it: (it[1], it[2], it[0])):\n",
        "            fp.write('{0} {1} {2}\\n'.format(cur_entity[0], cur_entity[1], cur_entity[2]))"
      ],
      "execution_count": 8,
      "outputs": [
        {
          "output_type": "stream",
          "text": [
            "CPU times: user 34min 42s, sys: 35.4 s, total: 35min 18s\n",
            "Wall time: 18min 32s\n"
          ],
          "name": "stdout"
        }
      ]
    },
    {
      "cell_type": "code",
      "metadata": {
        "id": "67PmkB24D3pK",
        "colab_type": "code",
        "colab": {}
      },
      "source": [
        "#!python factRuEval-2016-master/scripts/t1_eval.py -s /content/factRuEval-2016-master -t /content/FactRuEval2016_results/results_of_elmo_and_crf"
      ],
      "execution_count": 0,
      "outputs": []
    },
    {
      "cell_type": "code",
      "metadata": {
        "id": "IHDHn4bdOmzk",
        "colab_type": "code",
        "colab": {}
      },
      "source": [
        "#!zip -r /content/file.zip /content/FactRuEval2016_results"
      ],
      "execution_count": 0,
      "outputs": []
    }
  ]
}