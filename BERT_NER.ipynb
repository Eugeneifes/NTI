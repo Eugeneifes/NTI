{
  "nbformat": 4,
  "nbformat_minor": 0,
  "metadata": {
    "colab": {
      "name": "BERT-NER.ipynb",
      "provenance": [],
      "collapsed_sections": []
    },
    "kernelspec": {
      "name": "python3",
      "display_name": "Python 3"
    }
  },
  "cells": [
    {
      "cell_type": "code",
      "metadata": {
        "id": "KLBJqgylT431",
        "colab_type": "code",
        "colab": {}
      },
      "source": [
        "#шаг1: скачать репозиторий FactFuEval-2016 (https://github.com/dialogue-evaluation/factRuEval-2016)\n",
        "#шаг2: внутри репозитория создаем директории FactRuEval2016_results и FactRuEval2016_results/results_of_bert_and_crf (для результатов)\n",
        "#шаг3: устанавливаем библиотеку deep_ner (pip install deep_ner)\n",
        "#шаг4: для обучения на наших текстах будем использовать предобученную BERT модель (https://tfhub.dev/google/bert_multi_cased_L-12_H-768_A-12/1)\n",
        "\n",
        "#!unzip factRuEval-2016-master.zip\n",
        "#!pip install deep_ner\n",
        "\n",
        "#требования по библиотекам:\n",
        "#nltk==3.4.5\n",
        "#numpy==1.18.1\n",
        "#scikit-learn==0.22.1\n",
        "#scipy==1.4.1\n",
        "#tensorboard==2.1.0\n",
        "#tensorflow==1.15.0\n",
        "#tensorflow-hub==0.8.0\n",
        "#bert-tensorflow==1.0.1\n",
        "#spacy-udpipe==0.2.0\n",
        "#spacy==2.2.3\n",
        "#pymorphy2==0.8\n",
        "#rusenttokenize==0.0.5\n",
        "\n",
        "#работа выполена в google.colab\n",
        "#python 3.6.9"
      ],
      "execution_count": 0,
      "outputs": []
    },
    {
      "cell_type": "code",
      "metadata": {
        "id": "8zyGf9gBVf_N",
        "colab_type": "code",
        "colab": {}
      },
      "source": [
        "from deep_ner.bert_ner import BERT_NER\n",
        "from deep_ner.utils import load_dataset_from_json, factrueval2016_to_json\n",
        "import json\n",
        "import os\n",
        "import sys\n",
        "\n",
        "#sys.version\n",
        "#sys.path.append('/content/factRuEval-2016-master/scripts')\n",
        "#sys.path.append('/content/factRuEval-2016-master')\n",
        "from scripts.dialent.task1.eval import Evaluator"
      ],
      "execution_count": 0,
      "outputs": []
    },
    {
      "cell_type": "code",
      "metadata": {
        "id": "WdvKzcVoUVK1",
        "colab_type": "code",
        "outputId": "be6eccd7-353f-4fa8-c4dd-3efa26cd7492",
        "colab": {
          "base_uri": "https://localhost:8080/",
          "height": 68
        }
      },
      "source": [
        "%%time\n",
        "factrueval2016_to_json(\"factRuEval-2016-master/devset\", \"factrueval2016devset_to_json.json\")\n",
        "X, y = load_dataset_from_json(\"factrueval2016devset_to_json.json\")\n",
        "\n",
        "bert_will_be_tuned = False\n",
        "\n",
        "recognizer = BERT_NER(\n",
        "    \n",
        "            finetune_bert=bert_will_be_tuned, \n",
        "            batch_size=16, \n",
        "            l2_reg=1e-2,\n",
        "            bert_hub_module_handle='https://tfhub.dev/google/bert_multi_cased_L-12_H-768_A-12/1', \n",
        "            lstm_units=None, \n",
        "            validation_fraction=0.25,\n",
        "            max_epochs=2, \n",
        "            patience=10, \n",
        "            gpu_memory_frac=0.9, \n",
        "            verbose=True, \n",
        "            random_seed=42,\n",
        "            lr=1e-5 if bert_will_be_tuned else 1e-3, \n",
        "            udpipe_lang='ru', \n",
        "            use_additional_features=False\n",
        "        )\n",
        "\n",
        "recognizer.fit(X, y)"
      ],
      "execution_count": 12,
      "outputs": [
        {
          "output_type": "stream",
          "text": [
            "Downloaded pre-trained UDPipe model for 'ru' language\n",
            "CPU times: user 1h 39min 40s, sys: 1min 16s, total: 1h 40min 56s\n",
            "Wall time: 52min 28s\n"
          ],
          "name": "stdout"
        }
      ]
    },
    {
      "cell_type": "code",
      "metadata": {
        "id": "6Zht8rR3YVRz",
        "colab_type": "code",
        "colab": {}
      },
      "source": [
        "#!mkdir FactRuEval2016_results\n",
        "#!mkdir FactRuEval2016_results/results_of_bert_and_crf"
      ],
      "execution_count": 0,
      "outputs": []
    },
    {
      "cell_type": "code",
      "metadata": {
        "id": "fpBToVglWeIb",
        "colab_type": "code",
        "outputId": "a56e528d-b023-4770-aa6b-1e2cc00c6512",
        "colab": {
          "base_uri": "https://localhost:8080/",
          "height": 51
        }
      },
      "source": [
        "%%time\n",
        "factrueval2016_to_json(\"factRuEval-2016-master/testset\", \"factrueval2016testset_to_json.json\")\n",
        "\n",
        "with open(\"factrueval2016testset_to_json.json\", 'r') as fp:\n",
        "  data_for_testing = json.load(fp)\n",
        "\n",
        "_, true_entities = load_dataset_from_json(\"factrueval2016testset_to_json.json\")\n",
        "\n",
        "texts = []\n",
        "additional_info = []\n",
        "for cur_document in data_for_testing:\n",
        "  base_name = os.path.join(\"FactRuEval2016_results/results_of_bert_and_crf\", cur_document['base_name'] + '.task1')\n",
        "  for cur_paragraph in cur_document['paragraph_bounds']:\n",
        "    texts.append(cur_document['text'][cur_paragraph[0]:cur_paragraph[1]])\n",
        "    additional_info.append((base_name, cur_paragraph))\n",
        "\n",
        "predicted_entities = recognizer.predict(texts)\n",
        "\n",
        "results_for_factrueval_2016 = dict()\n",
        "for sample_idx, cur_result in enumerate(predicted_entities):\n",
        "    base_name, paragraph_bounds = additional_info[sample_idx]\n",
        "    for entity_type in cur_result:\n",
        "        if entity_type == 'ORG':\n",
        "            prepared_entity_type = 'org'\n",
        "        elif entity_type == 'PERSON':\n",
        "            prepared_entity_type = 'per'\n",
        "        elif entity_type == 'LOCATION':\n",
        "            prepared_entity_type = 'loc'\n",
        "        else:\n",
        "            prepared_entity_type = None\n",
        "        \n",
        "        for entity_bounds in cur_result[entity_type]:\n",
        "            postprocessed_entity = (\n",
        "                prepared_entity_type,\n",
        "                entity_bounds[0] + paragraph_bounds[0],\n",
        "                entity_bounds[1] - entity_bounds[0]\n",
        "                )\n",
        "            if base_name in results_for_factrueval_2016:\n",
        "                results_for_factrueval_2016[base_name].append(postprocessed_entity)\n",
        "            else:\n",
        "                results_for_factrueval_2016[base_name] = [postprocessed_entity]\n",
        "\n",
        "for base_name in results_for_factrueval_2016:\n",
        "    with open(base_name, 'w+') as fp:\n",
        "        for cur_entity in sorted(results_for_factrueval_2016[base_name], key=lambda it: (it[1], it[2], it[0])):\n",
        "            fp.write('{0} {1} {2}\\n'.format(cur_entity[0], cur_entity[1], cur_entity[2]))"
      ],
      "execution_count": 14,
      "outputs": [
        {
          "output_type": "stream",
          "text": [
            "CPU times: user 1h 3min 25s, sys: 40.1 s, total: 1h 4min 5s\n",
            "Wall time: 33min 26s\n"
          ],
          "name": "stdout"
        }
      ]
    },
    {
      "cell_type": "code",
      "metadata": {
        "id": "ro40UNrOxGAQ",
        "colab_type": "code",
        "colab": {
          "base_uri": "https://localhost:8080/",
          "height": 204
        },
        "outputId": "f1bec05b-f26c-4f0e-e27f-91cb8ee98990"
      },
      "source": [
        "#!python factRuEval-2016-master/scripts/t1_eval.py -t /content/FactRuEval2016_results/results_of_bert_and_crf -s /content/factRuEval-2016-master/testset -l\n",
        "\n",
        "is_locorg_allowed = False\n",
        "e = Evaluator(is_locorg_allowed)\n",
        "e.evaluate(std_path=\"/content/factRuEval-2016-master/testset\", test_path=\"/content/FactRuEval2016_results/results_of_bert_and_crf\")"
      ],
      "execution_count": 15,
      "outputs": [
        {
          "output_type": "stream",
          "text": [
            "Failed to load the standard of book_3954:\n",
            "Unknown mention tag: Facility\n",
            "Type    P        R        F1       TP1      TP2      In Std.  In Test.\n",
            "per        0.6237   0.8809   0.7303  1179.50  1179.50     1339     1891\n",
            "loc        0.6733   0.6755   0.6744   829.48   829.48     1228     1232\n",
            "org        0.4124   0.4807   0.4439   756.68   756.68     1574     1835\n",
            "overall    0.5578   0.6679   0.6079  2765.67  2765.67     4141     4958\n"
          ],
          "name": "stdout"
        },
        {
          "output_type": "execute_result",
          "data": {
            "text/plain": [
              "{'loc': <dialent.common.metrics.Metrics at 0x7f9df8742e48>,\n",
              " 'org': <dialent.common.metrics.Metrics at 0x7f9df873eda0>,\n",
              " 'overall': <dialent.common.metrics.Metrics at 0x7f9df874c390>,\n",
              " 'per': <dialent.common.metrics.Metrics at 0x7f9df87a4f98>}"
            ]
          },
          "metadata": {
            "tags": []
          },
          "execution_count": 15
        }
      ]
    },
    {
      "cell_type": "code",
      "metadata": {
        "id": "G8rWCHOOiKoS",
        "colab_type": "code",
        "colab": {}
      },
      "source": [
        "#!zip -r /content/file.zip /content/FactRuEval2016_results"
      ],
      "execution_count": 0,
      "outputs": []
    }
  ]
}